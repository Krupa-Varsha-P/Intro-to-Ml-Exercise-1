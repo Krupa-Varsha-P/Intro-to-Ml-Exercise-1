{
  "nbformat": 4,
  "nbformat_minor": 0,
  "metadata": {
    "colab": {
      "provenance": [],
      "authorship_tag": "ABX9TyNx4hIRD2nacsPF7b2X0//U",
      "include_colab_link": true
    },
    "kernelspec": {
      "name": "python3",
      "display_name": "Python 3"
    },
    "language_info": {
      "name": "python"
    }
  },
  "cells": [
    {
      "cell_type": "markdown",
      "metadata": {
        "id": "view-in-github",
        "colab_type": "text"
      },
      "source": [
        "<a href=\"https://colab.research.google.com/github/Krupa-Varsha-P/Intro-to-Ml-Exercise-1/blob/main/Introduction_to_ML.ipynb\" target=\"_parent\"><img src=\"https://colab.research.google.com/assets/colab-badge.svg\" alt=\"Open In Colab\"/></a>"
      ]
    },
    {
      "cell_type": "code",
      "source": [
        "import numpy as np\n",
        "import matplotlib.pyplot as plt\n",
        "#preprocessing Input data\n",
        "x=np.array(eval(input()))\n",
        "y=np.array(eval(input()))\n",
        "#mean\n",
        "x_mean=np.mean(x)\n",
        "y_mean=np.mean(y)\n",
        "num=0\n",
        "den=0\n",
        "for i in range(len(x)):\n",
        "  num+=(x[i]-y_mean)*((y[i]-y_mean)**2)\n",
        "  den+=(x[i]-x_mean)**2\n",
        "\n",
        "#calculate slope\n",
        "m=num/den\n",
        "\n",
        "#calculate intercept\n",
        "b=y_mean-(m*x_mean)\n",
        "print(m,b)\n",
        "\n",
        "#line equation\n",
        "y_predicted=m*x+b\n",
        "print(y_predicted)\n",
        "\n",
        "#to plot graph\n",
        "plt.scatter(x,y)\n",
        "plt.plot(x,y_predicted,color='blue')\n",
        "plt.show()"
      ],
      "metadata": {
        "colab": {
          "base_uri": "https://localhost:8080/",
          "height": 352
        },
        "id": "tvVQutn9Wvsg",
        "outputId": "73891149-7302-4833-eea4-f4e9ec476c8f"
      },
      "execution_count": null,
      "outputs": [
        {
          "output_type": "stream",
          "name": "stdout",
          "text": [
            "8,2,11,6,3,4,12,9,6,1 \n",
            "3,10,3,6,8,12,1,4,9,14\n",
            "-1.1363636363636362 14.045454545454545\n",
            "[ 4.95454545 11.77272727  1.54545455  7.22727273 10.63636364  9.5\n",
            "  0.40909091  3.81818182  7.22727273 12.90909091]\n"
          ]
        },
        {
          "output_type": "display_data",
          "data": {
            "text/plain": [
              "<Figure size 432x288 with 1 Axes>"
            ],
            "image/png": "[encoded data removed]"
          },
          "metadata": {
            "needs_background": "light"
          }
        }
      ]
    }
  ]
}